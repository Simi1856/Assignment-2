{
 "cells": [
  {
   "cell_type": "code",
   "execution_count": 5,
   "id": "7219bb11-6af2-49c8-aca9-f865dc9f84e9",
   "metadata": {},
   "outputs": [
    {
     "name": "stdout",
     "output_type": "stream",
     "text": [
      "Deposited: $50. Current balance: $150\n",
      "Withdrew: $30. Current balance: $120\n",
      "Current balance: $120\n"
     ]
    }
   ],
   "source": [
    "class BankAccount:\n",
    "    def __init__(self, initial_balance=0):\n",
    "        self.balance = initial_balance\n",
    "\n",
    "    def deposit(self, amount):\n",
    "        if amount > 0:\n",
    "            self.balance += amount\n",
    "            print(f\"Deposited: ${amount}. Current balance: ${self.balance}\")\n",
    "        else:\n",
    "            print(\"Deposit amount must be positive.\")\n",
    "\n",
    "    def withdraw(self, amount):\n",
    "        if amount > 0:\n",
    "            if self.balance >= amount:\n",
    "                self.balance -= amount\n",
    "                print(f\"Withdrew: ${amount}. Current balance: ${self.balance}\")\n",
    "            else:\n",
    "                print(\"Insufficient funds for withdrawal.\")\n",
    "        else:\n",
    "            print(\"Withdrawal amount must be positive.\")\n",
    "\n",
    "    def check_balance(self):\n",
    "        print(f\"Current balance: ${self.balance}\")\n",
    "\n",
    "# Example usage:\n",
    "account = BankAccount(100)  # Creating a bank account with an initial balance of $100\n",
    "account.deposit(50)          # Deposit $50\n",
    "account.withdraw(30)         # Withdraw $30\n",
    "account.check_balance()      # Check the current balance"
   ]
  },
  {
   "cell_type": "code",
   "execution_count": 7,
   "id": "60e6b480-196b-411c-951d-73f01e9f8715",
   "metadata": {},
   "outputs": [
    {
     "name": "stdout",
     "output_type": "stream",
     "text": [
      "Average Temperature: 31.00°C\n",
      "Average Humidity: 44.20%\n",
      "Weather Condition: Sunny\n"
     ]
    }
   ],
   "source": [
    "class WeatherDataAnalyzer:\n",
    "    def __init__(self, temperatures, humidities):\n",
    "        self.temperatures = temperatures\n",
    "        self.humidities = humidities\n",
    "\n",
    "    def average_temperature(self):\n",
    "        return sum(self.temperatures) / len(self.temperatures)\n",
    "\n",
    "    def average_humidity(self):\n",
    "        return sum(self.humidities) / len(self.humidities)\n",
    "\n",
    "    def weather_condition(self):\n",
    "        avg_temp = self.average_temperature()\n",
    "        avg_hum = self.average_humidity()\n",
    "        \n",
    "        if avg_temp > 30 and avg_hum < 50:\n",
    "            return \"Sunny\"\n",
    "        elif avg_temp < 20 and avg_hum > 70:\n",
    "            return \"Rainy\"\n",
    "        else:\n",
    "            return \"Moderate\"\n",
    "\n",
    "    def print_weather_report(self):\n",
    "        avg_temp = self.average_temperature()\n",
    "        avg_hum = self.average_humidity()\n",
    "        condition = self.weather_condition()\n",
    "        print(f\"Average Temperature: {avg_temp:.2f}°C\")\n",
    "        print(f\"Average Humidity: {avg_hum:.2f}%\")\n",
    "        print(f\"Weather Condition: {condition}\")\n",
    "\n",
    "# Example usage:\n",
    "temperatures = [32, 34, 28, 30, 31]  # Temperature data in °C\n",
    "humidities = [40, 45, 50, 42, 44]    # Humidity data in %\n",
    "\n",
    "analyzer = WeatherDataAnalyzer(temperatures, humidities)\n",
    "analyzer.print_weather_report()"
   ]
  },
  {
   "cell_type": "code",
   "execution_count": null,
   "id": "2080e10b-0f1e-4b6d-97f9-c5f8d54b1a5c",
   "metadata": {},
   "outputs": [],
   "source": []
  }
 ],
 "metadata": {
  "kernelspec": {
   "display_name": "Python 3 (ipykernel)",
   "language": "python",
   "name": "python3"
  },
  "language_info": {
   "codemirror_mode": {
    "name": "ipython",
    "version": 3
   },
   "file_extension": ".py",
   "mimetype": "text/x-python",
   "name": "python",
   "nbconvert_exporter": "python",
   "pygments_lexer": "ipython3",
   "version": "3.12.4"
  }
 },
 "nbformat": 4,
 "nbformat_minor": 5
}
